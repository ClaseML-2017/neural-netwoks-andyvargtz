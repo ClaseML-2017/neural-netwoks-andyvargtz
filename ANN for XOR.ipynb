{
 "cells": [
  {
   "cell_type": "markdown",
   "metadata": {},
   "source": [
    "# Train a ANN for the XOR problem and create a visualization that enables you to visualize the decision boudaries"
   ]
  },
  {
   "cell_type": "code",
   "execution_count": 2,
   "metadata": {},
   "outputs": [],
   "source": [
    "import tensorflow as tf\n",
    "import numpy as np\n",
    "import matplotlib.pyplot as plt\n",
    "%matplotlib inline"
   ]
  },
  {
   "cell_type": "code",
   "execution_count": 35,
   "metadata": {},
   "outputs": [],
   "source": [
    "# Datos para entrenar XOR\n",
    "X=np.asarray([[0,0],[0,1],[1,0],[1,1]])\n",
    "Y=np.asarray([[0],[1],[1],[0]])"
   ]
  },
  {
   "cell_type": "code",
   "execution_count": 32,
   "metadata": {},
   "outputs": [],
   "source": [
    "\n",
    "x = tf.placeholder(tf.float32, shape=[None, 2])\n",
    "y_ = tf.placeholder(tf.float32, shape=[None, 1])\n",
    "\n",
    "input_size=2\n",
    "hidden_layer_size=2\n",
    "output_layer_size=1\n",
    "\n",
    "\n",
    "W_layer1 = tf.Variable(tf.random_uniform([input_size,hidden_layer_size], -1, 1), name=\"W_layer1\") #weights\n",
    "b_layer1 = tf.Variable(tf.zeros([hidden_layer_size]), name=\"b_layer1\") #bias\n",
    "\n",
    "\n",
    "W_layer2 = tf.Variable(tf.random_uniform([hidden_layer_size,output_layer_size], -1, 1), name=\"W_layer2\") #weights\n",
    "b_layer2 = tf.Variable(tf.zeros([output_layer_size]), name=\"b_layer2\") #bias"
   ]
  },
  {
   "cell_type": "code",
   "execution_count": 33,
   "metadata": {},
   "outputs": [],
   "source": [
    "\n",
    "hidden = tf.nn.sigmoid(tf.matmul(x,W_layer1)+b_layer1)\n",
    "y = tf.nn.sigmoid(tf.matmul(hidden,W_layer2) + b_layer2)\n",
    "\n",
    "\n",
    "lossfn = tf.reduce_mean(tf.reduce_sum((y_-y)**2)) #error cuadratico \n",
    "\n",
    "#Para optimizar la lossfn\n",
    "learning_rate=.01\n",
    "train_step = tf.train.GradientDescentOptimizer(learning_rate).minimize(lossfn)"
   ]
  },
  {
   "cell_type": "code",
   "execution_count": 34,
   "metadata": {},
   "outputs": [],
   "source": [
    "\n",
    "init = tf.global_variables_initializer()\n",
    "sess = tf.Session()"
   ]
  },
  {
   "cell_type": "code",
   "execution_count": 42,
   "metadata": {},
   "outputs": [],
   "source": [
    "epochs=50000\n",
    "sess.run(init)\n",
    "for i in range(epochs):\n",
    "  sess.run(train_step, feed_dict={x: X, y_: Y}) #Corre sobre todos los datos \n",
    "\n"
   ]
  },
  {
   "cell_type": "code",
   "execution_count": 43,
   "metadata": {},
   "outputs": [
    {
     "name": "stdout",
     "output_type": "stream",
     "text": [
      "1.0\n"
     ]
    }
   ],
   "source": [
    "correct_prediction = tf.equal(tf.round(y),y_) # Indican si la entrada en la prediccion fue correcta.\n",
    "accuracy = tf.reduce_mean(tf.cast(correct_prediction, tf.float32)) \n",
    "print(sess.run(accuracy, feed_dict={x: X, y_: Y})) # las corremo"
   ]
  },
  {
   "cell_type": "code",
   "execution_count": 45,
   "metadata": {},
   "outputs": [
    {
     "name": "stdout",
     "output_type": "stream",
     "text": [
      "1.48989 1.48866 -0.999173\n",
      "0.422643 0.421268 -0.996747\n"
     ]
    },
    {
     "data": {
      "image/png": "[encoded data removed]",
      "text/plain": [
       "<matplotlib.figure.Figure at 0x19a29a184e0>"
      ]
     },
     "metadata": {},
     "output_type": "display_data"
    },
    {
     "data": {
      "text/plain": [
       "5.6969514"
      ]
     },
     "execution_count": 45,
     "metadata": {},
     "output_type": "execute_result"
    }
   ],
   "source": [
    "w1=[sess.run(b_layer1, feed_dict={x: X, y_: Y})[0]]+[i[0] for i in sess.run(W_layer1, feed_dict={x: X, y_: Y})]\n",
    "\n",
    "m1=((w1[0]/w1[2]))/((-w1[0]/w1[1]))\n",
    "print (-w1[0]/w1[1], -w1[0]/w1[2], m1)\n",
    "\n",
    "w2=[sess.run(b_layer1, feed_dict={x: X, y_: Y})[1]]+[i[1] for i in sess.run(W_layer1, feed_dict={x: X, y_: Y})]\n",
    "\n",
    "m2=((w2[0]/w2[2]))/((-w2[0]/w2[1]))\n",
    "print (-w2[0]/w2[1], -w2[0]/w2[2], m2)\n",
    "\n",
    "\n",
    "plt.scatter(X[:,0],X[:,1],c=['red' if i==1 else 'blue' for i in Y])\n",
    "x2 = np.linspace(-5.2,5.2,100) # 100 numeros espaciados\n",
    "plt.plot(x2,-w1[0]/w1[2]+m1*x2,color='blue')\n",
    "plt.plot(x2,-w2[0]/w2[2]+m2*x2,color='blue')\n",
    "plt.ylim([-5.2,5.2])\n",
    "plt.xlim([-5.2,5.2])\n",
    "plt.show()\n",
    "\n",
    "sess.run(b_layer1, feed_dict={x: X, y_: Y})[0]"
   ]
  },
  {
   "cell_type": "code",
   "execution_count": null,
   "metadata": {},
   "outputs": [],
   "source": []
  }
 ],
 "metadata": {
  "kernelspec": {
   "display_name": "Python 3",
   "language": "python",
   "name": "python3"
  },
  "language_info": {
   "codemirror_mode": {
    "name": "ipython",
    "version": 3
   },
   "file_extension": ".py",
   "mimetype": "text/x-python",
   "name": "python",
   "nbconvert_exporter": "python",
   "pygments_lexer": "ipython3",
   "version": "3.6.3"
  }
 },
 "nbformat": 4,
 "nbformat_minor": 2
}
